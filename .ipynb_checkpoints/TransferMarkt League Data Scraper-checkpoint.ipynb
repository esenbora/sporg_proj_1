{
 "cells": [
  {
   "cell_type": "code",
   "execution_count": 8,
   "id": "d0b1f0ad-4796-4eb5-be25-bb9f8a4fae00",
   "metadata": {},
   "outputs": [],
   "source": [
    "import requests\n",
    "import re\n",
    "from bs4 import BeautifulSoup\n",
    "import pandas as pd\n",
    "import numpy as np\n",
    "import json"
   ]
  },
  {
   "cell_type": "code",
   "execution_count": 40,
   "id": "673f410d-ca32-4168-a4b8-44fc19ecfa2c",
   "metadata": {},
   "outputs": [],
   "source": [
    "# Now that we are able to get the teams for any season in any league, let's try to also get other data located in the website, too.\n",
    "# The json format is very useful. It is optimized and allows for a more complex data storage.\n",
    "# This meets our requirement for a season based table (or dataframe).\n",
    "json_data = json.dumps({\n",
    "    \"header\": \"TransferMarkt data\",\n",
    "    \"data\": {\n",
    "        \"2020-2021\": {\n",
    "                \"team\": [],\n",
    "                \"player_count\": [],\n",
    "                \"mean_age\": [],\n",
    "                \"foreigner_count\": [],\n",
    "                \"mean_player_market_value\": [],\n",
    "                \"total_market_value\": []\n",
    "            },\n",
    "        \"2021-2022\": {\n",
    "                \"team\": [],\n",
    "                \"player_count\": [],\n",
    "                \"mean_age\": [],\n",
    "                \"foreigner_count\": [],\n",
    "                \"mean_player_market_value\": [],\n",
    "                \"total_market_value\": []\n",
    "            },\n",
    "        \"2022-2023\": {\n",
    "                \"team\": [],\n",
    "                \"player_count\": [],\n",
    "                \"mean_age\": [],\n",
    "                \"foreigner_count\": [],\n",
    "                \"mean_player_market_value\": [],\n",
    "                \"total_market_value\": []\n",
    "            },\n",
    "        \"2023-2024\": {\n",
    "                \"team\": [],\n",
    "                \"player_count\": [],\n",
    "                \"mean_age\": [],\n",
    "                \"foreigner_count\": [],\n",
    "                \"mean_player_market_value\": [],\n",
    "                \"total_market_value\": []\n",
    "            },\n",
    "        \"2024-2025\": {\n",
    "                \"team\": [],\n",
    "                \"player_count\": [],\n",
    "                \"mean_age\": [],\n",
    "                \"foreigner_count\": [],\n",
    "                \"mean_player_market_value\": [],\n",
    "                \"total_market_value\": []\n",
    "            }\n",
    "    },\n",
    "    \"description\": \"This json file contains number of players, mean age, number of foreigners, mean player market value, and total market value of the teams for each season\"\n",
    "}, indent=4)"
   ]
  },
  {
   "cell_type": "code",
   "execution_count": 41,
   "id": "39f4bc80-49ce-435e-ba43-bbda60626979",
   "metadata": {},
   "outputs": [
    {
     "name": "stdout",
     "output_type": "stream",
     "text": [
      "[]\n"
     ]
    }
   ],
   "source": [
    "# To be able to access and index the json data, convert it to a python format\n",
    "json_data_dict = json.loads(json_data)\n",
    "# An example indexing to grasp how it works\n",
    "\"\"\"\n",
    "data ==>\n",
    "    seasons ==>\n",
    "        2020-2021 ==>\n",
    "             -------------\n",
    "            |team,..      | \n",
    "            |Arsenal,     |\n",
    "            |Chelsea,     |\n",
    "            |_____________|\n",
    "\n",
    "        ....\n",
    "        2024-2025 ==>\n",
    "             -------------\n",
    "            |team,..      | \n",
    "            |Man Utd,     |\n",
    "            |Liverpool,   |\n",
    "            |_____________|\n",
    "\"\"\"\n",
    "    \n",
    "print(json_data_dict[\"data\"][\"season\"][\"2021-2022\"][\"team\"])"
   ]
  },
  {
   "cell_type": "code",
   "execution_count": 26,
   "id": "0c56894e-6472-4a78-b799-845f5b2723c0",
   "metadata": {},
   "outputs": [],
   "source": []
  },
  {
   "cell_type": "code",
   "execution_count": 74,
   "id": "1de0cba1-d591-4da1-ad66-aae88d0f2b5e",
   "metadata": {},
   "outputs": [
    {
     "name": "stdout",
     "output_type": "stream",
     "text": [
      "200\n",
      "200\n",
      "200\n",
      "200\n",
      "200\n"
     ]
    }
   ],
   "source": [
    "# Introducing ourselves\n",
    "headers = {\n",
    "    \"User-Agent\": \"Mozilla/5.0 (Windows NT 10.0; Win64; x64) AppleWebKit/537.36 (KHTML, like Gecko) Chrome/133.0.0.0 Safari/537.36\"\n",
    "}\n",
    "# get the request based on the url\n",
    "years = range(2020, 2025)\n",
    "seasons = [str(years[i]) + \"-\" + str(years[i] + 1) for i in range(len(years))]\n",
    "for i, year in enumerate(years):\n",
    "    url = f\"https://www.transfermarkt.com/premier-league/startseite/wettbewerb/GB1/plus/?saison_id={year}\" # url\n",
    "    response = requests.get(url, headers = headers) # get request from the above url\n",
    "    print(response.status_code) # 200 means successful\n",
    "    \n",
    "    soup = BeautifulSoup(response.content, \"html.parser\") # response.content is the code html parser boyformats\n",
    "    body = soup.find_all(\"tbody\")[1] # The table we are interested in is the second table\n",
    "    \n",
    "    # Scrape the tables and insert into the json dict\n",
    "    \n",
    "    # Utilize Regex\n",
    "    matches = re.findall(\">[^a][a-z A-Z.0-9;&]+</\", str(body)) # This !beauty! extracts the information in the table\n",
    "    cleaned_data_cells = [re.sub(r'[<>/]', '', match) for match in matches] # get rid of unnecessary characters\n",
    "    \n",
    "    table = {\n",
    "        \"team\": [],\n",
    "        \"player_count\": [],\n",
    "        \"mean_age\": [],\n",
    "        \"foreigner_count\": [],\n",
    "        \"mean_player_market_value\": [],\n",
    "        \"total_market_value\": []\n",
    "    }\n",
    "    \n",
    "    keys = [k for k in table] * 20\n",
    "    for k, d in zip(keys,cleaned_data_cells):\n",
    "        table[k].append(d)\n",
    "\n",
    "    season_info = pd.DataFrame(table).to_json(orient=\"columns\")\n",
    "    json_data_dict['data']['season'][seasons[i]] = season_info\n",
    "    \n",
    "    "
   ]
  },
  {
   "cell_type": "code",
   "execution_count": 67,
   "id": "e1a8762a-d94b-4024-a42a-fc8da967816d",
   "metadata": {},
   "outputs": [],
   "source": [
    "# Save the data as json file\n",
    "with open(\"premiere_teams_data.json\", \"w\") as filename:\n",
    "    json.dump(json_data_dict, filename, indent = 4)"
   ]
  },
  {
   "cell_type": "code",
   "execution_count": 68,
   "id": "43d85ddc-93a5-40f4-95b3-5a729dc356b4",
   "metadata": {
    "scrolled": true
   },
   "outputs": [],
   "source": [
    "j = pd.read_json(\"premiere_teams_data.json\")"
   ]
  },
  {
   "cell_type": "code",
   "execution_count": 72,
   "id": "cbf47092-6137-4527-b89d-6a06950f26a4",
   "metadata": {
    "collapsed": true,
    "jupyter": {
     "outputs_hidden": true
    },
    "scrolled": true
   },
   "outputs": [
    {
     "ename": "ValueError",
     "evalue": "DataFrame constructor not properly called!",
     "output_type": "error",
     "traceback": [
      "\u001b[1;31m---------------------------------------------------------------------------\u001b[0m",
      "\u001b[1;31mValueError\u001b[0m                                Traceback (most recent call last)",
      "\u001b[1;32m~\\AppData\\Local\\Temp\\ipykernel_12992\\1754055217.py\u001b[0m in \u001b[0;36m?\u001b[1;34m()\u001b[0m\n\u001b[1;32m----> 1\u001b[1;33m \u001b[0mpd\u001b[0m\u001b[1;33m.\u001b[0m\u001b[0mDataFrame\u001b[0m\u001b[1;33m(\u001b[0m\u001b[0mj\u001b[0m\u001b[1;33m[\u001b[0m\u001b[1;34m\"data\"\u001b[0m\u001b[1;33m]\u001b[0m\u001b[1;33m[\u001b[0m\u001b[1;34m\"season\"\u001b[0m\u001b[1;33m]\u001b[0m\u001b[1;33m[\u001b[0m\u001b[1;34m\"2020-2021\"\u001b[0m\u001b[1;33m]\u001b[0m\u001b[1;33m)\u001b[0m\u001b[1;33m\u001b[0m\u001b[1;33m\u001b[0m\u001b[0m\n\u001b[0m",
      "\u001b[1;32m~\\AppData\\Local\\Programs\\Python\\Python310\\lib\\site-packages\\pandas\\core\\frame.py\u001b[0m in \u001b[0;36m?\u001b[1;34m(self, data, index, columns, dtype, copy)\u001b[0m\n\u001b[0;32m    777\u001b[0m                 )\n\u001b[0;32m    778\u001b[0m         \u001b[1;31m# For data is scalar\u001b[0m\u001b[1;33m\u001b[0m\u001b[1;33m\u001b[0m\u001b[0m\n\u001b[0;32m    779\u001b[0m         \u001b[1;32melse\u001b[0m\u001b[1;33m:\u001b[0m\u001b[1;33m\u001b[0m\u001b[1;33m\u001b[0m\u001b[0m\n\u001b[0;32m    780\u001b[0m             \u001b[1;32mif\u001b[0m \u001b[0mindex\u001b[0m \u001b[1;32mis\u001b[0m \u001b[1;32mNone\u001b[0m \u001b[1;32mor\u001b[0m \u001b[0mcolumns\u001b[0m \u001b[1;32mis\u001b[0m \u001b[1;32mNone\u001b[0m\u001b[1;33m:\u001b[0m\u001b[1;33m\u001b[0m\u001b[1;33m\u001b[0m\u001b[0m\n\u001b[1;32m--> 781\u001b[1;33m                 \u001b[1;32mraise\u001b[0m \u001b[0mValueError\u001b[0m\u001b[1;33m(\u001b[0m\u001b[1;34m\"DataFrame constructor not properly called!\"\u001b[0m\u001b[1;33m)\u001b[0m\u001b[1;33m\u001b[0m\u001b[1;33m\u001b[0m\u001b[0m\n\u001b[0m\u001b[0;32m    782\u001b[0m \u001b[1;33m\u001b[0m\u001b[0m\n\u001b[0;32m    783\u001b[0m             \u001b[0mindex\u001b[0m \u001b[1;33m=\u001b[0m \u001b[0mensure_index\u001b[0m\u001b[1;33m(\u001b[0m\u001b[0mindex\u001b[0m\u001b[1;33m)\u001b[0m\u001b[1;33m\u001b[0m\u001b[1;33m\u001b[0m\u001b[0m\n\u001b[0;32m    784\u001b[0m             \u001b[0mcolumns\u001b[0m \u001b[1;33m=\u001b[0m \u001b[0mensure_index\u001b[0m\u001b[1;33m(\u001b[0m\u001b[0mcolumns\u001b[0m\u001b[1;33m)\u001b[0m\u001b[1;33m\u001b[0m\u001b[1;33m\u001b[0m\u001b[0m\n",
      "\u001b[1;31mValueError\u001b[0m: DataFrame constructor not properly called!"
     ]
    }
   ],
   "source": [
    "pd.json_normalize(j[\"data\"][\"season\"][\"2020-2021\"])"
   ]
  },
  {
   "cell_type": "code",
   "execution_count": 73,
   "id": "f79c8d8c-14a4-4059-88de-a4138c8fb81b",
   "metadata": {
    "collapsed": true,
    "jupyter": {
     "outputs_hidden": true
    },
    "scrolled": true
   },
   "outputs": [
    {
     "data": {
      "text/plain": [
       "{'2020-2021': '[{\"team\":\"Manchester City\",\"player_count\":\"36\",\"mean_age\":\"25.3\",\"foreigner_count\":\"23\",\"mean_player_market_value\":\"\\\\u20ac29.01m\",\"total_market_value\":\"\\\\u20ac1.04bn\"},{\"team\":\"Liverpool FC\",\"player_count\":\"43\",\"mean_age\":\"24.9\",\"foreigner_count\":\"28\",\"mean_player_market_value\":\"\\\\u20ac22.55m\",\"total_market_value\":\"\\\\u20ac969.65m\"},{\"team\":\"Chelsea FC\",\"player_count\":\"39\",\"mean_age\":\"25.7\",\"foreigner_count\":\"23\",\"mean_player_market_value\":\"\\\\u20ac22.80m\",\"total_market_value\":\"\\\\u20ac889.20m\"},{\"team\":\"Manchester United\",\"player_count\":\"39\",\"mean_age\":\"25.4\",\"foreigner_count\":\"25\",\"mean_player_market_value\":\"\\\\u20ac19.74m\",\"total_market_value\":\"\\\\u20ac770.05m\"},{\"team\":\"Tottenham Hotspur\",\"player_count\":\"41\",\"mean_age\":\"25.2\",\"foreigner_count\":\"23\",\"mean_player_market_value\":\"\\\\u20ac17.16m\",\"total_market_value\":\"\\\\u20ac703.50m\"},{\"team\":\"Arsenal FC\",\"player_count\":\"42\",\"mean_age\":\"24.9\",\"foreigner_count\":\"27\",\"mean_player_market_value\":\"\\\\u20ac14.74m\",\"total_market_value\":\"\\\\u20ac619.25m\"},{\"team\":\"Everton FC\",\"player_count\":\"44\",\"mean_age\":\"25.2\",\"foreigner_count\":\"27\",\"mean_player_market_value\":\"\\\\u20ac11.62m\",\"total_market_value\":\"\\\\u20ac511.20m\"},{\"team\":\"Leicester City\",\"player_count\":\"40\",\"mean_age\":\"25.8\",\"foreigner_count\":\"27\",\"mean_player_market_value\":\"\\\\u20ac12.77m\",\"total_market_value\":\"\\\\u20ac510.60m\"},{\"team\":\"Wolverhampton Wanderers\",\"player_count\":\"38\",\"mean_age\":\"24.4\",\"foreigner_count\":\"32\",\"mean_player_market_value\":\"\\\\u20ac11.85m\",\"total_market_value\":\"\\\\u20ac450.30m\"},{\"team\":\"Aston Villa\",\"player_count\":\"53\",\"mean_age\":\"23.9\",\"foreigner_count\":\"24\",\"mean_player_market_value\":\"\\\\u20ac8.13m\",\"total_market_value\":\"\\\\u20ac430.70m\"},{\"team\":\"West Ham United\",\"player_count\":\"39\",\"mean_age\":\"27.0\",\"foreigner_count\":\"23\",\"mean_player_market_value\":\"\\\\u20ac8.59m\",\"total_market_value\":\"\\\\u20ac334.90m\"},{\"team\":\"Brighton &amp; Hove Albion\",\"player_count\":\"46\",\"mean_age\":\"24.9\",\"foreigner_count\":\"30\",\"mean_player_market_value\":\"\\\\u20ac6.31m\",\"total_market_value\":\"\\\\u20ac290.40m\"},{\"team\":\"Southampton FC\",\"player_count\":\"39\",\"mean_age\":\"25.0\",\"foreigner_count\":\"22\",\"mean_player_market_value\":\"\\\\u20ac7.25m\",\"total_market_value\":\"\\\\u20ac282.80m\"},{\"team\":\"Newcastle United\",\"player_count\":\"33\",\"mean_age\":\"27.4\",\"foreigner_count\":\"19\",\"mean_player_market_value\":\"\\\\u20ac7.74m\",\"total_market_value\":\"\\\\u20ac255.35m\"},{\"team\":\"Fulham FC\",\"player_count\":\"38\",\"mean_age\":\"27.0\",\"foreigner_count\":\"30\",\"mean_player_market_value\":\"\\\\u20ac6.31m\",\"total_market_value\":\"\\\\u20ac239.75m\"},{\"team\":\"Leeds United\",\"player_count\":\"39\",\"mean_age\":\"25.1\",\"foreigner_count\":\"24\",\"mean_player_market_value\":\"\\\\u20ac6.11m\",\"total_market_value\":\"\\\\u20ac238.10m\"},{\"team\":\"Crystal Palace\",\"player_count\":\"36\",\"mean_age\":\"28.2\",\"foreigner_count\":\"18\",\"mean_player_market_value\":\"\\\\u20ac5.38m\",\"total_market_value\":\"\\\\u20ac193.85m\"},{\"team\":\"Sheffield United\",\"player_count\":\"40\",\"mean_age\":\"25.4\",\"foreigner_count\":\"16\",\"mean_player_market_value\":\"\\\\u20ac3.75m\",\"total_market_value\":\"\\\\u20ac149.85m\"},{\"team\":\"West Bromwich Albion\",\"player_count\":\"43\",\"mean_age\":\"26.6\",\"foreigner_count\":\"18\",\"mean_player_market_value\":\"\\\\u20ac3.28m\",\"total_market_value\":\"\\\\u20ac141.15m\"},{\"team\":\"Burnley FC\",\"player_count\":\"32\",\"mean_age\":\"27.1\",\"foreigner_count\":\"11\",\"mean_player_market_value\":\"\\\\u20ac4.13m\",\"total_market_value\":\"\\\\u20ac132.30m\"}]',\n",
       " '2021-2022': '[{\"team\":\"Manchester City\",\"player_count\":\"39\",\"mean_age\":\"24.7\",\"foreigner_count\":\"23\",\"mean_player_market_value\":\"\\\\u20ac25.74m\",\"total_market_value\":\"\\\\u20ac1.00bn\"},{\"team\":\"Liverpool FC\",\"player_count\":\"49\",\"mean_age\":\"24.5\",\"foreigner_count\":\"29\",\"mean_player_market_value\":\"\\\\u20ac18.75m\",\"total_market_value\":\"\\\\u20ac918.90m\"},{\"team\":\"Chelsea FC\",\"player_count\":\"44\",\"mean_age\":\"25.6\",\"foreigner_count\":\"25\",\"mean_player_market_value\":\"\\\\u20ac20.78m\",\"total_market_value\":\"\\\\u20ac914.50m\"},{\"team\":\"Manchester United\",\"player_count\":\"43\",\"mean_age\":\"26.0\",\"foreigner_count\":\"28\",\"mean_player_market_value\":\"\\\\u20ac17.89m\",\"total_market_value\":\"\\\\u20ac769.15m\"},{\"team\":\"Tottenham Hotspur\",\"player_count\":\"45\",\"mean_age\":\"24.0\",\"foreigner_count\":\"26\",\"mean_player_market_value\":\"\\\\u20ac15.32m\",\"total_market_value\":\"\\\\u20ac689.35m\"},{\"team\":\"Arsenal FC\",\"player_count\":\"41\",\"mean_age\":\"24.0\",\"foreigner_count\":\"24\",\"mean_player_market_value\":\"\\\\u20ac14.95m\",\"total_market_value\":\"\\\\u20ac613.05m\"},{\"team\":\"Leicester City\",\"player_count\":\"40\",\"mean_age\":\"25.7\",\"foreigner_count\":\"26\",\"mean_player_market_value\":\"\\\\u20ac13.16m\",\"total_market_value\":\"\\\\u20ac526.55m\"},{\"team\":\"Aston Villa\",\"player_count\":\"44\",\"mean_age\":\"24.8\",\"foreigner_count\":\"21\",\"mean_player_market_value\":\"\\\\u20ac11.09m\",\"total_market_value\":\"\\\\u20ac487.75m\"},{\"team\":\"Everton FC\",\"player_count\":\"42\",\"mean_age\":\"26.0\",\"foreigner_count\":\"24\",\"mean_player_market_value\":\"\\\\u20ac11.41m\",\"total_market_value\":\"\\\\u20ac479.05m\"},{\"team\":\"Wolverhampton Wanderers\",\"player_count\":\"38\",\"mean_age\":\"24.8\",\"foreigner_count\":\"30\",\"mean_player_market_value\":\"\\\\u20ac9.92m\",\"total_market_value\":\"\\\\u20ac376.95m\"},{\"team\":\"West Ham United\",\"player_count\":\"37\",\"mean_age\":\"26.3\",\"foreigner_count\":\"20\",\"mean_player_market_value\":\"\\\\u20ac9.59m\",\"total_market_value\":\"\\\\u20ac354.90m\"},{\"team\":\"Brighton &amp; Hove Albion\",\"player_count\":\"43\",\"mean_age\":\"24.6\",\"foreigner_count\":\"31\",\"mean_player_market_value\":\"\\\\u20ac7.40m\",\"total_market_value\":\"\\\\u20ac318.00m\"},{\"team\":\"Newcastle United\",\"player_count\":\"34\",\"mean_age\":\"27.9\",\"foreigner_count\":\"19\",\"mean_player_market_value\":\"\\\\u20ac9.23m\",\"total_market_value\":\"\\\\u20ac313.90m\"},{\"team\":\"Leeds United\",\"player_count\":\"35\",\"mean_age\":\"24.0\",\"foreigner_count\":\"20\",\"mean_player_market_value\":\"\\\\u20ac8.56m\",\"total_market_value\":\"\\\\u20ac299.45m\"},{\"team\":\"Southampton FC\",\"player_count\":\"33\",\"mean_age\":\"25.6\",\"foreigner_count\":\"19\",\"mean_player_market_value\":\"\\\\u20ac8.31m\",\"total_market_value\":\"\\\\u20ac274.30m\"},{\"team\":\"Brentford FC\",\"player_count\":\"38\",\"mean_age\":\"24.7\",\"foreigner_count\":\"27\",\"mean_player_market_value\":\"\\\\u20ac7.19m\",\"total_market_value\":\"\\\\u20ac273.30m\"},{\"team\":\"Crystal Palace\",\"player_count\":\"33\",\"mean_age\":\"26.5\",\"foreigner_count\":\"16\",\"mean_player_market_value\":\"\\\\u20ac8.21m\",\"total_market_value\":\"\\\\u20ac271.05m\"},{\"team\":\"Norwich City\",\"player_count\":\"45\",\"mean_age\":\"24.7\",\"foreigner_count\":\"29\",\"mean_player_market_value\":\"\\\\u20ac3.63m\",\"total_market_value\":\"\\\\u20ac163.20m\"},{\"team\":\"Watford FC\",\"player_count\":\"47\",\"mean_age\":\"26.4\",\"foreigner_count\":\"35\",\"mean_player_market_value\":\"\\\\u20ac3.32m\",\"total_market_value\":\"\\\\u20ac156.20m\"},{\"team\":\"Burnley FC\",\"player_count\":\"35\",\"mean_age\":\"27.9\",\"foreigner_count\":\"16\",\"mean_player_market_value\":\"\\\\u20ac3.94m\",\"total_market_value\":\"\\\\u20ac137.85m\"}]',\n",
       " '2022-2023': '[{\"team\":\"Manchester City\",\"player_count\":\"34\",\"mean_age\":\"26.0\",\"foreigner_count\":\"21\",\"mean_player_market_value\":\"\\\\u20ac33.70m\",\"total_market_value\":\"\\\\u20ac1.15bn\"},{\"team\":\"Arsenal FC\",\"player_count\":\"42\",\"mean_age\":\"24.0\",\"foreigner_count\":\"25\",\"mean_player_market_value\":\"\\\\u20ac23.83m\",\"total_market_value\":\"\\\\u20ac1.00bn\"},{\"team\":\"Chelsea FC\",\"player_count\":\"43\",\"mean_age\":\"25.2\",\"foreigner_count\":\"27\",\"mean_player_market_value\":\"\\\\u20ac23.14m\",\"total_market_value\":\"\\\\u20ac994.95m\"},{\"team\":\"Manchester United\",\"player_count\":\"48\",\"mean_age\":\"25.4\",\"foreigner_count\":\"29\",\"mean_player_market_value\":\"\\\\u20ac17.66m\",\"total_market_value\":\"\\\\u20ac847.75m\"},{\"team\":\"Liverpool FC\",\"player_count\":\"39\",\"mean_age\":\"25.6\",\"foreigner_count\":\"24\",\"mean_player_market_value\":\"\\\\u20ac20.82m\",\"total_market_value\":\"\\\\u20ac811.85m\"},{\"team\":\"Tottenham Hotspur\",\"player_count\":\"34\",\"mean_age\":\"25.9\",\"foreigner_count\":\"21\",\"mean_player_market_value\":\"\\\\u20ac19.09m\",\"total_market_value\":\"\\\\u20ac649.10m\"},{\"team\":\"Newcastle United\",\"player_count\":\"38\",\"mean_age\":\"28.3\",\"foreigner_count\":\"22\",\"mean_player_market_value\":\"\\\\u20ac14.25m\",\"total_market_value\":\"\\\\u20ac541.60m\"},{\"team\":\"Brighton &amp; Hove Albion\",\"player_count\":\"42\",\"mean_age\":\"24.1\",\"foreigner_count\":\"28\",\"mean_player_market_value\":\"\\\\u20ac12.61m\",\"total_market_value\":\"\\\\u20ac529.80m\"},{\"team\":\"Aston Villa\",\"player_count\":\"43\",\"mean_age\":\"25.4\",\"foreigner_count\":\"23\",\"mean_player_market_value\":\"\\\\u20ac11.85m\",\"total_market_value\":\"\\\\u20ac509.55m\"},{\"team\":\"Wolverhampton Wanderers\",\"player_count\":\"43\",\"mean_age\":\"25.8\",\"foreigner_count\":\"34\",\"mean_player_market_value\":\"\\\\u20ac11.57m\",\"total_market_value\":\"\\\\u20ac497.65m\"},{\"team\":\"Leicester City\",\"player_count\":\"38\",\"mean_age\":\"26.4\",\"foreigner_count\":\"24\",\"mean_player_market_value\":\"\\\\u20ac12.91m\",\"total_market_value\":\"\\\\u20ac490.70m\"},{\"team\":\"West Ham United\",\"player_count\":\"44\",\"mean_age\":\"25.4\",\"foreigner_count\":\"24\",\"mean_player_market_value\":\"\\\\u20ac10.58m\",\"total_market_value\":\"\\\\u20ac465.60m\"},{\"team\":\"Southampton FC\",\"player_count\":\"46\",\"mean_age\":\"24.8\",\"foreigner_count\":\"25\",\"mean_player_market_value\":\"\\\\u20ac9.13m\",\"total_market_value\":\"\\\\u20ac419.95m\"},{\"team\":\"Everton FC\",\"player_count\":\"40\",\"mean_age\":\"26.9\",\"foreigner_count\":\"21\",\"mean_player_market_value\":\"\\\\u20ac10.33m\",\"total_market_value\":\"\\\\u20ac413.15m\"},{\"team\":\"Nottingham Forest\",\"player_count\":\"50\",\"mean_age\":\"26.6\",\"foreigner_count\":\"29\",\"mean_player_market_value\":\"\\\\u20ac7.53m\",\"total_market_value\":\"\\\\u20ac376.25m\"},{\"team\":\"Brentford FC\",\"player_count\":\"36\",\"mean_age\":\"25.3\",\"foreigner_count\":\"26\",\"mean_player_market_value\":\"\\\\u20ac10.31m\",\"total_market_value\":\"\\\\u20ac371.20m\"},{\"team\":\"Leeds United\",\"player_count\":\"47\",\"mean_age\":\"24.0\",\"foreigner_count\":\"31\",\"mean_player_market_value\":\"\\\\u20ac7.34m\",\"total_market_value\":\"\\\\u20ac345.15m\"},{\"team\":\"Crystal Palace\",\"player_count\":\"39\",\"mean_age\":\"25.4\",\"foreigner_count\":\"19\",\"mean_player_market_value\":\"\\\\u20ac8.28m\",\"total_market_value\":\"\\\\u20ac323.05m\"},{\"team\":\"Fulham FC\",\"player_count\":\"47\",\"mean_age\":\"25.9\",\"foreigner_count\":\"34\",\"mean_player_market_value\":\"\\\\u20ac6.28m\",\"total_market_value\":\"\\\\u20ac295.10m\"},{\"team\":\"AFC Bournemouth\",\"player_count\":\"47\",\"mean_age\":\"25.0\",\"foreigner_count\":\"23\",\"mean_player_market_value\":\"\\\\u20ac6.11m\",\"total_market_value\":\"\\\\u20ac287.20m\"}]',\n",
       " '2023-2024': '[{\"team\":\"Manchester City\",\"player_count\":\"36\",\"mean_age\":\"25.7\",\"foreigner_count\":\"21\",\"mean_player_market_value\":\"\\\\u20ac40.63m\",\"total_market_value\":\"\\\\u20ac1.46bn\"},{\"team\":\"Arsenal FC\",\"player_count\":\"40\",\"mean_age\":\"24.6\",\"foreigner_count\":\"23\",\"mean_player_market_value\":\"\\\\u20ac30.08m\",\"total_market_value\":\"\\\\u20ac1.20bn\"},{\"team\":\"Chelsea FC\",\"player_count\":\"56\",\"mean_age\":\"22.2\",\"foreigner_count\":\"26\",\"mean_player_market_value\":\"\\\\u20ac18.10m\",\"total_market_value\":\"\\\\u20ac1.01bn\"},{\"team\":\"Liverpool FC\",\"player_count\":\"45\",\"mean_age\":\"24.2\",\"foreigner_count\":\"30\",\"mean_player_market_value\":\"\\\\u20ac21.24m\",\"total_market_value\":\"\\\\u20ac955.65m\"},{\"team\":\"Tottenham Hotspur\",\"player_count\":\"41\",\"mean_age\":\"25.6\",\"foreigner_count\":\"27\",\"mean_player_market_value\":\"\\\\u20ac20.45m\",\"total_market_value\":\"\\\\u20ac838.50m\"},{\"team\":\"Manchester United\",\"player_count\":\"46\",\"mean_age\":\"24.9\",\"foreigner_count\":\"27\",\"mean_player_market_value\":\"\\\\u20ac17.57m\",\"total_market_value\":\"\\\\u20ac808.35m\"},{\"team\":\"Aston Villa\",\"player_count\":\"45\",\"mean_age\":\"25.0\",\"foreigner_count\":\"23\",\"mean_player_market_value\":\"\\\\u20ac15.77m\",\"total_market_value\":\"\\\\u20ac709.65m\"},{\"team\":\"Newcastle United\",\"player_count\":\"45\",\"mean_age\":\"26.3\",\"foreigner_count\":\"21\",\"mean_player_market_value\":\"\\\\u20ac14.49m\",\"total_market_value\":\"\\\\u20ac652.25m\"},{\"team\":\"Brighton &amp; Hove Albion\",\"player_count\":\"49\",\"mean_age\":\"24.2\",\"foreigner_count\":\"32\",\"mean_player_market_value\":\"\\\\u20ac10.70m\",\"total_market_value\":\"\\\\u20ac524.40m\"},{\"team\":\"Nottingham Forest\",\"player_count\":\"46\",\"mean_age\":\"26.6\",\"foreigner_count\":\"35\",\"mean_player_market_value\":\"\\\\u20ac10.90m\",\"total_market_value\":\"\\\\u20ac501.35m\"},{\"team\":\"West Ham United\",\"player_count\":\"36\",\"mean_age\":\"26.6\",\"foreigner_count\":\"19\",\"mean_player_market_value\":\"\\\\u20ac13.54m\",\"total_market_value\":\"\\\\u20ac487.50m\"},{\"team\":\"Crystal Palace\",\"player_count\":\"40\",\"mean_age\":\"25.1\",\"foreigner_count\":\"17\",\"mean_player_market_value\":\"\\\\u20ac11.16m\",\"total_market_value\":\"\\\\u20ac446.58m\"},{\"team\":\"Wolverhampton Wanderers\",\"player_count\":\"47\",\"mean_age\":\"23.9\",\"foreigner_count\":\"32\",\"mean_player_market_value\":\"\\\\u20ac9.42m\",\"total_market_value\":\"\\\\u20ac442.73m\"},{\"team\":\"Brentford FC\",\"player_count\":\"42\",\"mean_age\":\"25.0\",\"foreigner_count\":\"29\",\"mean_player_market_value\":\"\\\\u20ac10.21m\",\"total_market_value\":\"\\\\u20ac429.03m\"},{\"team\":\"AFC Bournemouth\",\"player_count\":\"42\",\"mean_age\":\"25.7\",\"foreigner_count\":\"26\",\"mean_player_market_value\":\"\\\\u20ac9.57m\",\"total_market_value\":\"\\\\u20ac401.90m\"},{\"team\":\"Everton FC\",\"player_count\":\"34\",\"mean_age\":\"26.8\",\"foreigner_count\":\"16\",\"mean_player_market_value\":\"\\\\u20ac11.52m\",\"total_market_value\":\"\\\\u20ac391.75m\"},{\"team\":\"Fulham FC\",\"player_count\":\"35\",\"mean_age\":\"26.9\",\"foreigner_count\":\"31\",\"mean_player_market_value\":\"\\\\u20ac10.98m\",\"total_market_value\":\"\\\\u20ac384.35m\"},{\"team\":\"Burnley FC\",\"player_count\":\"39\",\"mean_age\":\"25.3\",\"foreigner_count\":\"30\",\"mean_player_market_value\":\"\\\\u20ac7.01m\",\"total_market_value\":\"\\\\u20ac273.48m\"},{\"team\":\"Sheffield United\",\"player_count\":\"45\",\"mean_age\":\"24.7\",\"foreigner_count\":\"26\",\"mean_player_market_value\":\"\\\\u20ac3.39m\",\"total_market_value\":\"\\\\u20ac152.45m\"},{\"team\":\"Luton Town\",\"player_count\":\"46\",\"mean_age\":\"25.7\",\"foreigner_count\":\"22\",\"mean_player_market_value\":\"\\\\u20ac3.06m\",\"total_market_value\":\"\\\\u20ac140.90m\"}]',\n",
       " '2024-2025': '[{\"team\":\"Manchester City\",\"player_count\":\"27\",\"mean_age\":\"26.9\",\"foreigner_count\":\"21\",\"mean_player_market_value\":\"\\\\u20ac48.16m\",\"total_market_value\":\"\\\\u20ac1.30bn\"},{\"team\":\"Arsenal FC\",\"player_count\":\"24\",\"mean_age\":\"26.7\",\"foreigner_count\":\"18\",\"mean_player_market_value\":\"\\\\u20ac47.88m\",\"total_market_value\":\"\\\\u20ac1.15bn\"},{\"team\":\"Liverpool FC\",\"player_count\":\"25\",\"mean_age\":\"26.5\",\"foreigner_count\":\"18\",\"mean_player_market_value\":\"\\\\u20ac38.70m\",\"total_market_value\":\"\\\\u20ac967.50m\"},{\"team\":\"Chelsea FC\",\"player_count\":\"30\",\"mean_age\":\"23.5\",\"foreigner_count\":\"18\",\"mean_player_market_value\":\"\\\\u20ac30.95m\",\"total_market_value\":\"\\\\u20ac928.50m\"},{\"team\":\"Tottenham Hotspur\",\"player_count\":\"30\",\"mean_age\":\"25.4\",\"foreigner_count\":\"21\",\"mean_player_market_value\":\"\\\\u20ac28.20m\",\"total_market_value\":\"\\\\u20ac846.10m\"},{\"team\":\"Manchester United\",\"player_count\":\"25\",\"mean_age\":\"26.6\",\"foreigner_count\":\"18\",\"mean_player_market_value\":\"\\\\u20ac28.96m\",\"total_market_value\":\"\\\\u20ac724.05m\"},{\"team\":\"Aston Villa\",\"player_count\":\"24\",\"mean_age\":\"27.6\",\"foreigner_count\":\"16\",\"mean_player_market_value\":\"\\\\u20ac26.76m\",\"total_market_value\":\"\\\\u20ac642.15m\"},{\"team\":\"Newcastle United\",\"player_count\":\"27\",\"mean_age\":\"28.6\",\"foreigner_count\":\"11\",\"mean_player_market_value\":\"\\\\u20ac22.44m\",\"total_market_value\":\"\\\\u20ac606.00m\"},{\"team\":\"Brighton &amp; Hove Albion\",\"player_count\":\"28\",\"mean_age\":\"26.1\",\"foreigner_count\":\"20\",\"mean_player_market_value\":\"\\\\u20ac19.62m\",\"total_market_value\":\"\\\\u20ac549.40m\"},{\"team\":\"West Ham United\",\"player_count\":\"27\",\"mean_age\":\"28.4\",\"foreigner_count\":\"18\",\"mean_player_market_value\":\"\\\\u20ac18.36m\",\"total_market_value\":\"\\\\u20ac495.70m\"},{\"team\":\"Crystal Palace\",\"player_count\":\"28\",\"mean_age\":\"25.8\",\"foreigner_count\":\"13\",\"mean_player_market_value\":\"\\\\u20ac15.30m\",\"total_market_value\":\"\\\\u20ac428.53m\"},{\"team\":\"Brentford FC\",\"player_count\":\"26\",\"mean_age\":\"25.3\",\"foreigner_count\":\"21\",\"mean_player_market_value\":\"\\\\u20ac16.26m\",\"total_market_value\":\"\\\\u20ac422.85m\"},{\"team\":\"Nottingham Forest\",\"player_count\":\"24\",\"mean_age\":\"27.1\",\"foreigner_count\":\"19\",\"mean_player_market_value\":\"\\\\u20ac16.92m\",\"total_market_value\":\"\\\\u20ac406.18m\"},{\"team\":\"Wolverhampton Wanderers\",\"player_count\":\"31\",\"mean_age\":\"26.3\",\"foreigner_count\":\"27\",\"mean_player_market_value\":\"\\\\u20ac12.61m\",\"total_market_value\":\"\\\\u20ac390.80m\"},{\"team\":\"AFC Bournemouth\",\"player_count\":\"25\",\"mean_age\":\"24.8\",\"foreigner_count\":\"18\",\"mean_player_market_value\":\"\\\\u20ac14.71m\",\"total_market_value\":\"\\\\u20ac367.70m\"},{\"team\":\"Everton FC\",\"player_count\":\"25\",\"mean_age\":\"27.8\",\"foreigner_count\":\"15\",\"mean_player_market_value\":\"\\\\u20ac14.28m\",\"total_market_value\":\"\\\\u20ac357.10m\"},{\"team\":\"Fulham FC\",\"player_count\":\"26\",\"mean_age\":\"28.0\",\"foreigner_count\":\"20\",\"mean_player_market_value\":\"\\\\u20ac13.42m\",\"total_market_value\":\"\\\\u20ac348.80m\"},{\"team\":\"Leicester City\",\"player_count\":\"29\",\"mean_age\":\"26.8\",\"foreigner_count\":\"21\",\"mean_player_market_value\":\"\\\\u20ac9.70m\",\"total_market_value\":\"\\\\u20ac281.30m\"},{\"team\":\"Southampton FC\",\"player_count\":\"29\",\"mean_age\":\"26.3\",\"foreigner_count\":\"16\",\"mean_player_market_value\":\"\\\\u20ac9.51m\",\"total_market_value\":\"\\\\u20ac275.90m\"},{\"team\":\"Ipswich Town\",\"player_count\":\"29\",\"mean_age\":\"26.8\",\"foreigner_count\":\"14\",\"mean_player_market_value\":\"\\\\u20ac9.47m\",\"total_market_value\":\"\\\\u20ac274.50m\"}]'}"
      ]
     },
     "execution_count": 73,
     "metadata": {},
     "output_type": "execute_result"
    }
   ],
   "source": [
    "j[\"data\"][\"season\"]"
   ]
  },
  {
   "cell_type": "code",
   "execution_count": null,
   "id": "01355fd2-f108-447b-b49e-84d50b902969",
   "metadata": {},
   "outputs": [],
   "source": []
  }
 ],
 "metadata": {
  "kernelspec": {
   "display_name": "Python 3 (ipykernel)",
   "language": "python",
   "name": "python3"
  },
  "language_info": {
   "codemirror_mode": {
    "name": "ipython",
    "version": 3
   },
   "file_extension": ".py",
   "mimetype": "text/x-python",
   "name": "python",
   "nbconvert_exporter": "python",
   "pygments_lexer": "ipython3",
   "version": "3.10.4"
  }
 },
 "nbformat": 4,
 "nbformat_minor": 5
}
