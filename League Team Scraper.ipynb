{
 "cells": [
  {
   "cell_type": "code",
   "execution_count": 49,
   "id": "877f408d-3022-4cd7-9932-91356e711fa3",
   "metadata": {},
   "outputs": [],
   "source": [
    "import requests\n",
    "import re\n",
    "from bs4 import BeautifulSoup\n",
    "import pandas as pd\n",
    "import numpy as np\n",
    "import json"
   ]
  },
  {
   "cell_type": "code",
   "execution_count": 2,
   "id": "a0425f52-ff6e-4b7e-a270-328e42e76ebe",
   "metadata": {},
   "outputs": [],
   "source": [
    "# Introducing ourselves\n",
    "headers = {\n",
    "    \"User-Agent\": \"Mozilla/5.0 (Windows NT 10.0; Win64; x64) AppleWebKit/537.36 (KHTML, like Gecko) Chrome/133.0.0.0 Safari/537.36\"\n",
    "}"
   ]
  },
  {
   "cell_type": "code",
   "execution_count": 46,
   "id": "3e8b32c9-506e-45c5-acf6-0d92432ffee9",
   "metadata": {
    "collapsed": true,
    "jupyter": {
     "outputs_hidden": true
    },
    "scrolled": true
   },
   "outputs": [
    {
     "name": "stdout",
     "output_type": "stream",
     "text": [
      "200\n",
      "200\n",
      "200\n",
      "200\n",
      "200\n"
     ]
    }
   ],
   "source": [
    "# Scrape the premiere league teams that played in the last 5 seasons \n",
    "\n",
    "years = range(2020, 2025)\n",
    "column = list(np.repeat(\"team_name\", 20)) # to initialize an empty dataframe\n",
    "seasons = [str(years[i]) + \"-\" + str(years[i] + 1) for i in range(len(years))]\n",
    "\n",
    "# Initializee an empty dataframe\n",
    "premiere_teams_by_year = pd.DataFrame(data = dict(zip(seasons, [column, column, column, column])))\n",
    "# Scrape each year's teams\n",
    "for i, year in enumerate(years):\n",
    "    url = f\"https://www.transfermarkt.com/premier-league/startseite/wettbewerb/GB1/plus/?saison_id={year}\" # url \n",
    "    response = requests.get(url, headers = headers) # get request based on above url\n",
    "    print(response.status_code) # 200 mean successful\n",
    "    \n",
    "    soup = BeautifulSoup(response.content, \"html.parser\") # response.content is the code html parser formats\n",
    "    teams = soup.find_all('td', class_ = 'hauptlink no-border-links') # Result Set object\n",
    "    for row_index, team in enumerate(teams):\n",
    "        premiere_teams_by_year.loc[row_index, seasons[i]] = team.text # gives the text inside"
   ]
  },
  {
   "cell_type": "code",
   "execution_count": 155,
   "id": "b251f47c-bf3c-4460-9791-4ea984063415",
   "metadata": {
    "scrolled": true
   },
   "outputs": [],
   "source": [
    "premiere_teams_by_year.to_csv(\"Premiere Teams by Season.csv\")"
   ]
  },
  {
   "cell_type": "code",
   "execution_count": null,
   "id": "53a33e73-37e0-440b-af70-495d418b539c",
   "metadata": {},
   "outputs": [],
   "source": []
  },
  {
   "cell_type": "code",
   "execution_count": null,
   "id": "03134354-e8e1-4bcb-ba53-cc10368ca192",
   "metadata": {},
   "outputs": [],
   "source": []
  },
  {
   "cell_type": "code",
   "execution_count": null,
   "id": "8377b79a-b999-47f2-b6d8-a2b19bcaa47e",
   "metadata": {},
   "outputs": [],
   "source": []
  },
  {
   "cell_type": "code",
   "execution_count": null,
   "id": "a830b033-545d-4a2f-b799-8a1595a5f914",
   "metadata": {},
   "outputs": [],
   "source": []
  }
 ],
 "metadata": {
  "kernelspec": {
   "display_name": "Python 3 (ipykernel)",
   "language": "python",
   "name": "python3"
  },
  "language_info": {
   "codemirror_mode": {
    "name": "ipython",
    "version": 3
   },
   "file_extension": ".py",
   "mimetype": "text/x-python",
   "name": "python",
   "nbconvert_exporter": "python",
   "pygments_lexer": "ipython3",
   "version": "3.10.4"
  }
 },
 "nbformat": 4,
 "nbformat_minor": 5
}
